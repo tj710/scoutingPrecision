{
 "cells": [
  {
   "cell_type": "code",
   "execution_count": 6,
   "metadata": {},
   "outputs": [],
   "source": [
    "import os\n",
    "os.environ['TF_KERAS'] = '1'\n",
    "import sys\n",
    "import numpy as np\n",
    "import keras\n",
    "from keras.layers import Input, Reshape, Concatenate, Dense\n",
    "from keras.models import Model, model_from_json\n",
    "from qkeras.utils import model_save_quantized_weights, quantized_model_from_json, load_qmodel\n",
    "from qkeras import *\n",
    "from qkeras import QActivation, QDense, QBatchNormalization\n",
    "from qkeras import quantized_bits\n",
    "import onnx\n",
    "import onnxmltools\n",
    "import time\n",
    "import keras.backend as K\n",
    "import keras\n",
    "import tensorflow as tf\n",
    "from tensorflow.keras.layers import Input, Reshape, Concatenate, Dense\n",
    "from tensorflow.keras.models import Model"
   ]
  },
  {
   "cell_type": "code",
   "execution_count": 2,
   "metadata": {},
   "outputs": [],
   "source": [
    "# try also loading quantized weights by adding '_quantized_weights' to model_name\n",
    "def load_model_quantized(model_name):\n",
    "    json_file = open(model_name + '.json', 'r')\n",
    "    loaded_model_json = json_file.read()\n",
    "    json_file.close()\n",
    "    model = quantized_model_from_json(loaded_model_json)\n",
    "    model.load_weights(model_name + '.h5')\n",
    "    \n",
    "    return model"
   ]
  },
  {
   "cell_type": "code",
   "execution_count": 3,
   "metadata": {},
   "outputs": [
    {
     "name": "stdout",
     "output_type": "stream",
     "text": [
      "Model: \"model\"\n",
      "__________________________________________________________________________________________________\n",
      "Layer (type)                    Output Shape         Param #     Connected to                     \n",
      "==================================================================================================\n",
      "inputs_0 (InputLayer)           [(None, 4)]          0                                            \n",
      "__________________________________________________________________________________________________\n",
      "dense_2 (QDense)                (None, 32)           160         inputs_0[0][0]                   \n",
      "__________________________________________________________________________________________________\n",
      "bn_2 (QBatchNormalization)      (None, 32)           128         dense_2[0][0]                    \n",
      "__________________________________________________________________________________________________\n",
      "relu_2 (QActivation)            (None, 32)           0           bn_2[0][0]                       \n",
      "__________________________________________________________________________________________________\n",
      "dense_3 (QDense)                (None, 32)           1056        relu_2[0][0]                     \n",
      "__________________________________________________________________________________________________\n",
      "bn_3 (QBatchNormalization)      (None, 32)           128         dense_3[0][0]                    \n",
      "__________________________________________________________________________________________________\n",
      "relu_3 (QActivation)            (None, 32)           0           bn_3[0][0]                       \n",
      "__________________________________________________________________________________________________\n",
      "dense_4 (QDense)                (None, 32)           1056        relu_3[0][0]                     \n",
      "__________________________________________________________________________________________________\n",
      "bn_4 (QBatchNormalization)      (None, 32)           128         dense_4[0][0]                    \n",
      "__________________________________________________________________________________________________\n",
      "relu_4 (QActivation)            (None, 32)           0           bn_4[0][0]                       \n",
      "__________________________________________________________________________________________________\n",
      "phi (QDense)                    (None, 1)            33          relu_4[0][0]                     \n",
      "__________________________________________________________________________________________________\n",
      "eta (QDense)                    (None, 1)            33          relu_4[0][0]                     \n",
      "__________________________________________________________________________________________________\n",
      "p_t (QDense)                    (None, 1)            33          relu_4[0][0]                     \n",
      "==================================================================================================\n",
      "Total params: 2,755\n",
      "Trainable params: 2,563\n",
      "Non-trainable params: 192\n",
      "__________________________________________________________________________________________________\n"
     ]
    }
   ],
   "source": [
    "model = load_model_quantized('models/qkeras_models/qkeras_model_2_4_2020_3layers_vol100')\n",
    "model.summary()"
   ]
  },
  {
   "cell_type": "code",
   "execution_count": 4,
   "metadata": {},
   "outputs": [
    {
     "name": "stdout",
     "output_type": "stream",
     "text": [
      "Model: \"model\"\n",
      "__________________________________________________________________________________________________\n",
      "Layer (type)                    Output Shape         Param #     Connected to                     \n",
      "==================================================================================================\n",
      "inputs_0 (InputLayer)           [(None, 4)]          0                                            \n",
      "__________________________________________________________________________________________________\n",
      "dense_2 (QDense)                (None, 32)           160         inputs_0[0][0]                   \n",
      "__________________________________________________________________________________________________\n",
      "bn_2 (QBatchNormalization)      (None, 32)           128         dense_2[0][0]                    \n",
      "__________________________________________________________________________________________________\n",
      "relu_2 (QActivation)            (None, 32)           0           bn_2[0][0]                       \n",
      "__________________________________________________________________________________________________\n",
      "dense_3 (QDense)                (None, 32)           1056        relu_2[0][0]                     \n",
      "__________________________________________________________________________________________________\n",
      "bn_3 (QBatchNormalization)      (None, 32)           128         dense_3[0][0]                    \n",
      "__________________________________________________________________________________________________\n",
      "relu_3 (QActivation)            (None, 32)           0           bn_3[0][0]                       \n",
      "__________________________________________________________________________________________________\n",
      "dense_4 (QDense)                (None, 32)           1056        relu_3[0][0]                     \n",
      "__________________________________________________________________________________________________\n",
      "bn_4 (QBatchNormalization)      (None, 32)           128         dense_4[0][0]                    \n",
      "__________________________________________________________________________________________________\n",
      "relu_4 (QActivation)            (None, 32)           0           bn_4[0][0]                       \n",
      "__________________________________________________________________________________________________\n",
      "phi (QDense)                    (None, 1)            33          relu_4[0][0]                     \n",
      "__________________________________________________________________________________________________\n",
      "eta (QDense)                    (None, 1)            33          relu_4[0][0]                     \n",
      "__________________________________________________________________________________________________\n",
      "p_t (QDense)                    (None, 1)            33          relu_4[0][0]                     \n",
      "==================================================================================================\n",
      "Total params: 2,755\n",
      "Trainable params: 2,563\n",
      "Non-trainable params: 192\n",
      "__________________________________________________________________________________________________\n"
     ]
    }
   ],
   "source": [
    "model_2 = load_qmodel('models/qkeras_models/qkeras_model_2_4_2020_3layers_vol100_h5file.h5')\n",
    "model_2.summary()"
   ]
  },
  {
   "cell_type": "code",
   "execution_count": 7,
   "metadata": {},
   "outputs": [
    {
     "name": "stdout",
     "output_type": "stream",
     "text": [
      "Model: \"model\"\n",
      "_________________________________________________________________\n",
      "Layer (type)                 Output Shape              Param #   \n",
      "=================================================================\n",
      "input_2 (InputLayer)         [(None, 1, 1, 4)]         0         \n",
      "_________________________________________________________________\n",
      "reshaped_hidden (Reshape)    (None, 4)                 0         \n",
      "_________________________________________________________________\n",
      "dense_2 (QDense)             (None, 32)                160       \n",
      "_________________________________________________________________\n",
      "bn_2 (QBatchNormalization)   (None, 32)                128       \n",
      "_________________________________________________________________\n",
      "relu_2 (QActivation)         (None, 32)                0         \n",
      "_________________________________________________________________\n",
      "dense_3 (QDense)             (None, 32)                1056      \n",
      "_________________________________________________________________\n",
      "bn_3 (QBatchNormalization)   (None, 32)                128       \n",
      "_________________________________________________________________\n",
      "relu_3 (QActivation)         (None, 32)                0         \n",
      "_________________________________________________________________\n",
      "dense_4 (QDense)             (None, 32)                1056      \n",
      "_________________________________________________________________\n",
      "bn_4 (QBatchNormalization)   (None, 32)                128       \n",
      "_________________________________________________________________\n",
      "relu_4 (QActivation)         (None, 32)                0         \n",
      "_________________________________________________________________\n",
      "output3 (QDense)             (None, 3)                 99        \n",
      "=================================================================\n",
      "Total params: 2,755\n",
      "Trainable params: 2,563\n",
      "Non-trainable params: 192\n",
      "_________________________________________________________________\n"
     ]
    }
   ],
   "source": [
    "# didn't use this always (for making sure input and output are compatible with the board)\n",
    "lays = model_2.layers\n",
    "\n",
    "n_input_features = lays[0].input_shape[0][1]\n",
    "inputs = Input(shape=(1,1,n_input_features,))\n",
    "hidden_layers = Reshape((n_input_features,), name='reshaped_hidden')(inputs)\n",
    "\n",
    "for l in lays[1:-3]:\n",
    "    hidden_layers = l(hidden_layers)\n",
    "\n",
    "phi_weights = lays[-3].get_weights()\n",
    "eta_weights = lays[-2].get_weights()\n",
    "pt_weights = lays[-1].get_weights()\n",
    "\n",
    "combined_W = np.concatenate((phi_weights[0], eta_weights[0], pt_weights[0]), -1)\n",
    "combined_b = np.concatenate((phi_weights[1], eta_weights[1], pt_weights[1]), -1)\n",
    "new_output_layer = QDense(3, activation='linear', weights=[combined_W, combined_b], name='output3')(hidden_layers)\n",
    "\n",
    "inference_model = Model(inputs=inputs, outputs=[new_output_layer])\n",
    "inference_model.summary()"
   ]
  },
  {
   "cell_type": "code",
   "execution_count": 8,
   "metadata": {},
   "outputs": [
    {
     "ename": "ValueError",
     "evalue": "Unable to find out a correct type for tensor type = 20 of phi/BiasAdd/ReadVariableOp/resource:0",
     "output_type": "error",
     "traceback": [
      "\u001b[0;31m---------------------------------------------------------------------------\u001b[0m",
      "\u001b[0;31mValueError\u001b[0m                                Traceback (most recent call last)",
      "\u001b[0;32m<ipython-input-8-d49bcf1819e8>\u001b[0m in \u001b[0;36m<module>\u001b[0;34m\u001b[0m\n\u001b[1;32m      2\u001b[0m \u001b[0;32mimport\u001b[0m \u001b[0mkeras2onnx\u001b[0m \u001b[0;32mas\u001b[0m \u001b[0mk2o\u001b[0m\u001b[0;34m\u001b[0m\u001b[0;34m\u001b[0m\u001b[0m\n\u001b[1;32m      3\u001b[0m \u001b[0;32mimport\u001b[0m \u001b[0mtf2onnx\u001b[0m\u001b[0;34m\u001b[0m\u001b[0;34m\u001b[0m\u001b[0m\n\u001b[0;32m----> 4\u001b[0;31m \u001b[0monnx_model\u001b[0m \u001b[0;34m=\u001b[0m \u001b[0mk2o\u001b[0m\u001b[0;34m.\u001b[0m\u001b[0mconvert_keras\u001b[0m\u001b[0;34m(\u001b[0m\u001b[0mmodel\u001b[0m\u001b[0;34m,\u001b[0m \u001b[0mmodel\u001b[0m\u001b[0;34m.\u001b[0m\u001b[0mname\u001b[0m\u001b[0;34m)\u001b[0m\u001b[0;34m\u001b[0m\u001b[0;34m\u001b[0m\u001b[0m\n\u001b[0m\u001b[1;32m      5\u001b[0m \u001b[0mk2o\u001b[0m\u001b[0;34m.\u001b[0m\u001b[0msave_model\u001b[0m\u001b[0;34m(\u001b[0m\u001b[0monnx_model\u001b[0m\u001b[0;34m,\u001b[0m \u001b[0;34m'models/qkeras_models/finaly.onnx'\u001b[0m\u001b[0;34m)\u001b[0m\u001b[0;34m\u001b[0m\u001b[0;34m\u001b[0m\u001b[0m\n",
      "\u001b[0;32m/opt/anaconda3/envs/tf2_gpu/lib/python3.7/site-packages/keras2onnx/main.py\u001b[0m in \u001b[0;36mconvert_keras\u001b[0;34m(model, name, doc_string, target_opset, channel_first_inputs, debug_mode, custom_op_conversions)\u001b[0m\n\u001b[1;32m     58\u001b[0m                         custom_op_dict=custom_op_conversions)\n\u001b[1;32m     59\u001b[0m     \u001b[0mtopology\u001b[0m\u001b[0;34m.\u001b[0m\u001b[0mdebug_mode\u001b[0m \u001b[0;34m=\u001b[0m \u001b[0mdebug_mode\u001b[0m\u001b[0;34m\u001b[0m\u001b[0;34m\u001b[0m\u001b[0m\n\u001b[0;32m---> 60\u001b[0;31m     \u001b[0mparse_graph\u001b[0m\u001b[0;34m(\u001b[0m\u001b[0mtopology\u001b[0m\u001b[0;34m,\u001b[0m \u001b[0mtf_graph\u001b[0m\u001b[0;34m,\u001b[0m \u001b[0mtarget_opset\u001b[0m\u001b[0;34m,\u001b[0m \u001b[0moutput_names\u001b[0m\u001b[0;34m,\u001b[0m \u001b[0moutput_dict\u001b[0m\u001b[0;34m)\u001b[0m\u001b[0;34m\u001b[0m\u001b[0;34m\u001b[0m\u001b[0m\n\u001b[0m\u001b[1;32m     61\u001b[0m     \u001b[0mtopology\u001b[0m\u001b[0;34m.\u001b[0m\u001b[0mcompile\u001b[0m\u001b[0;34m(\u001b[0m\u001b[0;34m)\u001b[0m\u001b[0;34m\u001b[0m\u001b[0;34m\u001b[0m\u001b[0m\n\u001b[1;32m     62\u001b[0m \u001b[0;34m\u001b[0m\u001b[0m\n",
      "\u001b[0;32m/opt/anaconda3/envs/tf2_gpu/lib/python3.7/site-packages/keras2onnx/parser.py\u001b[0m in \u001b[0;36mparse_graph\u001b[0;34m(topo, graph, target_opset, output_names, keras_node_dict)\u001b[0m\n\u001b[1;32m    791\u001b[0m     return _parse_graph_core_v2(\n\u001b[1;32m    792\u001b[0m         \u001b[0mgraph\u001b[0m\u001b[0;34m,\u001b[0m \u001b[0mkeras_node_dict\u001b[0m\u001b[0;34m,\u001b[0m \u001b[0mtopo\u001b[0m\u001b[0;34m,\u001b[0m \u001b[0mtop_level\u001b[0m\u001b[0;34m,\u001b[0m \u001b[0moutput_names\u001b[0m\u001b[0;34m\u001b[0m\u001b[0;34m\u001b[0m\u001b[0m\n\u001b[0;32m--> 793\u001b[0;31m     \u001b[0;34m)\u001b[0m \u001b[0;32mif\u001b[0m \u001b[0mis_tf2\u001b[0m \u001b[0;32mand\u001b[0m \u001b[0mis_tf_keras\u001b[0m \u001b[0;32melse\u001b[0m \u001b[0m_parse_graph_core\u001b[0m\u001b[0;34m(\u001b[0m\u001b[0;34m\u001b[0m\u001b[0;34m\u001b[0m\u001b[0m\n\u001b[0m\u001b[1;32m    794\u001b[0m         graph, keras_node_dict, topo, top_level, output_names)\n",
      "\u001b[0;32m/opt/anaconda3/envs/tf2_gpu/lib/python3.7/site-packages/keras2onnx/parser.py\u001b[0m in \u001b[0;36m_parse_graph_core_v2\u001b[0;34m(graph, keras_node_dict, topology, top_scope, output_names)\u001b[0m\n\u001b[1;32m    712\u001b[0m             \u001b[0mon_parsing_keras_layer_v2\u001b[0m\u001b[0;34m(\u001b[0m\u001b[0mgraph\u001b[0m\u001b[0;34m,\u001b[0m \u001b[0mlayer_info\u001b[0m\u001b[0;34m,\u001b[0m \u001b[0mvarset\u001b[0m\u001b[0;34m)\u001b[0m\u001b[0;34m\u001b[0m\u001b[0;34m\u001b[0m\u001b[0m\n\u001b[1;32m    713\u001b[0m         \u001b[0;32melse\u001b[0m\u001b[0;34m:\u001b[0m\u001b[0;34m\u001b[0m\u001b[0;34m\u001b[0m\u001b[0m\n\u001b[0;32m--> 714\u001b[0;31m             \u001b[0m_on_parsing_tf_nodes\u001b[0m\u001b[0;34m(\u001b[0m\u001b[0mlayer_info\u001b[0m\u001b[0;34m.\u001b[0m\u001b[0mnodelist\u001b[0m\u001b[0;34m,\u001b[0m \u001b[0mvarset\u001b[0m\u001b[0;34m)\u001b[0m\u001b[0;34m\u001b[0m\u001b[0;34m\u001b[0m\u001b[0m\n\u001b[0m\u001b[1;32m    715\u001b[0m \u001b[0;34m\u001b[0m\u001b[0m\n\u001b[1;32m    716\u001b[0m     \u001b[0;32mfor\u001b[0m \u001b[0mnd_\u001b[0m \u001b[0;32min\u001b[0m \u001b[0minput_nodes\u001b[0m\u001b[0;34m:\u001b[0m\u001b[0;34m\u001b[0m\u001b[0;34m\u001b[0m\u001b[0m\n",
      "\u001b[0;32m/opt/anaconda3/envs/tf2_gpu/lib/python3.7/site-packages/keras2onnx/parser.py\u001b[0m in \u001b[0;36m_on_parsing_tf_nodes\u001b[0;34m(nodelist, varset)\u001b[0m\n\u001b[1;32m    319\u001b[0m         \u001b[0;32mfor\u001b[0m \u001b[0mi_\u001b[0m \u001b[0;32min\u001b[0m \u001b[0mnode_\u001b[0m\u001b[0;34m.\u001b[0m\u001b[0minputs\u001b[0m\u001b[0;34m:\u001b[0m\u001b[0;34m\u001b[0m\u001b[0;34m\u001b[0m\u001b[0m\n\u001b[1;32m    320\u001b[0m             \u001b[0mk2o_logger\u001b[0m\u001b[0;34m(\u001b[0m\u001b[0;34m)\u001b[0m\u001b[0;34m.\u001b[0m\u001b[0mdebug\u001b[0m\u001b[0;34m(\u001b[0m\u001b[0;34m'input : '\u001b[0m \u001b[0;34m+\u001b[0m \u001b[0mi_\u001b[0m\u001b[0;34m.\u001b[0m\u001b[0mname\u001b[0m\u001b[0;34m)\u001b[0m\u001b[0;34m\u001b[0m\u001b[0;34m\u001b[0m\u001b[0m\n\u001b[0;32m--> 321\u001b[0;31m             \u001b[0mvar_type\u001b[0m \u001b[0;34m=\u001b[0m \u001b[0minfer_variable_type\u001b[0m\u001b[0;34m(\u001b[0m\u001b[0mi_\u001b[0m\u001b[0;34m,\u001b[0m \u001b[0mvarset\u001b[0m\u001b[0;34m.\u001b[0m\u001b[0mtarget_opset\u001b[0m\u001b[0;34m)\u001b[0m\u001b[0;34m\u001b[0m\u001b[0;34m\u001b[0m\u001b[0m\n\u001b[0m\u001b[1;32m    322\u001b[0m             \u001b[0mi0\u001b[0m \u001b[0;34m=\u001b[0m \u001b[0mvarset\u001b[0m\u001b[0;34m.\u001b[0m\u001b[0mget_local_variable_or_declare_one\u001b[0m\u001b[0;34m(\u001b[0m\u001b[0mi_\u001b[0m\u001b[0;34m.\u001b[0m\u001b[0mname\u001b[0m\u001b[0;34m,\u001b[0m \u001b[0mvar_type\u001b[0m\u001b[0;34m)\u001b[0m\u001b[0;34m\u001b[0m\u001b[0;34m\u001b[0m\u001b[0m\n\u001b[1;32m    323\u001b[0m             \u001b[0moperator\u001b[0m\u001b[0;34m.\u001b[0m\u001b[0madd_input\u001b[0m\u001b[0;34m(\u001b[0m\u001b[0mi0\u001b[0m\u001b[0;34m)\u001b[0m\u001b[0;34m\u001b[0m\u001b[0;34m\u001b[0m\u001b[0m\n",
      "\u001b[0;32m/opt/anaconda3/envs/tf2_gpu/lib/python3.7/site-packages/keras2onnx/_parse_tf.py\u001b[0m in \u001b[0;36minfer_variable_type\u001b[0;34m(tensor, opset, inbound_node_shape)\u001b[0m\n\u001b[1;32m     44\u001b[0m     \u001b[0;32melse\u001b[0m\u001b[0;34m:\u001b[0m\u001b[0;34m\u001b[0m\u001b[0;34m\u001b[0m\u001b[0m\n\u001b[1;32m     45\u001b[0m         raise ValueError(\n\u001b[0;32m---> 46\u001b[0;31m             \"Unable to find out a correct type for tensor type = {} of {}\".format(tensor_type, tensor.name))\n\u001b[0m\u001b[1;32m     47\u001b[0m \u001b[0;34m\u001b[0m\u001b[0m\n\u001b[1;32m     48\u001b[0m \u001b[0;34m\u001b[0m\u001b[0m\n",
      "\u001b[0;31mValueError\u001b[0m: Unable to find out a correct type for tensor type = 20 of phi/BiasAdd/ReadVariableOp/resource:0"
     ]
    }
   ],
   "source": [
    "# doesn't work --> because of tf version\n",
    "import keras2onnx as k2o\n",
    "import tf2onnx\n",
    "onnx_model = k2o.convert_keras(model, model.name)\n",
    "k2o.save_model(onnx_model, 'models/qkeras_models/finaly.onnx')"
   ]
  },
  {
   "cell_type": "code",
   "execution_count": null,
   "metadata": {},
   "outputs": [],
   "source": [
    "print(\"save tensorflow in format \\\"saved_model\\\"\")\n",
    "\n",
    "# creates assets dir, variables dir and saved_model.pb file\n",
    "# customized = have input_shape=(1,1,num_features) and 1 output\n",
    "tf.keras.models.save_model(model, 'models/qkeras_models/qkeras_model_7_4_2020_quant')\n",
    "\n",
    "\"\"\" RUN this in terminal: \n",
    "        python -m tf2onnx.convert \\\n",
    "        --saved-model ./output/saved_model \\\n",
    "        --output ./output/mnist1.onnx \\\n",
    "        --opset 11 \"\"\"\n",
    "\"\"\" ./output/saved_model --> repository where is file saved_model.pb\"\"\"\n",
    "\"\"\" Opset version ai.onnx --> for onnx version 1.6.0 => opset = 11 \"\"\""
   ]
  }
 ],
 "metadata": {
  "kernelspec": {
   "display_name": "Python 3",
   "language": "python",
   "name": "python3"
  },
  "language_info": {
   "codemirror_mode": {
    "name": "ipython",
    "version": 3
   },
   "file_extension": ".py",
   "mimetype": "text/x-python",
   "name": "python",
   "nbconvert_exporter": "python",
   "pygments_lexer": "ipython3",
   "version": "3.7.6"
  }
 },
 "nbformat": 4,
 "nbformat_minor": 4
}
