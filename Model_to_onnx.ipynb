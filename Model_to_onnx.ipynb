{
 "cells": [
  {
   "cell_type": "code",
   "execution_count": 1,
   "metadata": {},
   "outputs": [
    {
     "name": "stderr",
     "output_type": "stream",
     "text": [
      "Using TensorFlow backend.\n"
     ]
    }
   ],
   "source": [
    "import sys\n",
    "import numpy as np\n",
    "import keras\n",
    "from keras.layers import Input, Reshape, Concatenate, Dense\n",
    "from keras.models import Model, model_from_json\n",
    "from qkeras.utils import quantized_model_from_json\n",
    "import onnx\n",
    "import onnxmltools\n",
    "import time"
   ]
  },
  {
   "cell_type": "code",
   "execution_count": 2,
   "metadata": {},
   "outputs": [],
   "source": [
    "def load_model(model_name):\n",
    "    name = model_name + '.json'\n",
    "    json_file = open(name, 'r')\n",
    "    loaded_model_json = json_file.read()\n",
    "    json_file.close()\n",
    "    model = model_from_json(loaded_model_json)\n",
    "    model.load_weights(model_name + '.h5')\n",
    "    \n",
    "    return model\n",
    "\n",
    "def load_model_quantized(model_name):\n",
    "    json_file = open(model_name + '.json', 'r')\n",
    "    loaded_model_json = json_file.read()\n",
    "    json_file.close()\n",
    "    model = quantized_model_from_json(loaded_model_json)\n",
    "    model.load_weights(model_name  + '.h5')\n",
    "    \n",
    "    return model"
   ]
  },
  {
   "cell_type": "code",
   "execution_count": 3,
   "metadata": {},
   "outputs": [],
   "source": [
    "model_name = 'models/scouting_models/integer_scouting_7_4_2020_3layers'"
   ]
  },
  {
   "cell_type": "code",
   "execution_count": 4,
   "metadata": {},
   "outputs": [
    {
     "name": "stdout",
     "output_type": "stream",
     "text": [
      "Model: \"model_1\"\n",
      "__________________________________________________________________________________________________\n",
      "Layer (type)                    Output Shape         Param #     Connected to                     \n",
      "==================================================================================================\n",
      "input_0 (InputLayer)            (None, 4)            0                                            \n",
      "__________________________________________________________________________________________________\n",
      "dense_1 (Dense)                 (None, 32)           160         input_0[0][0]                    \n",
      "__________________________________________________________________________________________________\n",
      "bn_1 (BatchNormalization)       (None, 32)           128         dense_1[0][0]                    \n",
      "__________________________________________________________________________________________________\n",
      "relu_1 (Activation)             (None, 32)           0           bn_1[0][0]                       \n",
      "__________________________________________________________________________________________________\n",
      "dense_2 (Dense)                 (None, 32)           1056        relu_1[0][0]                     \n",
      "__________________________________________________________________________________________________\n",
      "bn_2 (BatchNormalization)       (None, 32)           128         dense_2[0][0]                    \n",
      "__________________________________________________________________________________________________\n",
      "relu_2 (Activation)             (None, 32)           0           bn_2[0][0]                       \n",
      "__________________________________________________________________________________________________\n",
      "dense_3 (Dense)                 (None, 32)           1056        relu_2[0][0]                     \n",
      "__________________________________________________________________________________________________\n",
      "bn_3 (BatchNormalization)       (None, 32)           128         dense_3[0][0]                    \n",
      "__________________________________________________________________________________________________\n",
      "relu_3 (Activation)             (None, 32)           0           bn_3[0][0]                       \n",
      "__________________________________________________________________________________________________\n",
      "phi (Dense)                     (None, 1)            33          relu_3[0][0]                     \n",
      "__________________________________________________________________________________________________\n",
      "eta (Dense)                     (None, 1)            33          relu_3[0][0]                     \n",
      "__________________________________________________________________________________________________\n",
      "pt (Dense)                      (None, 1)            33          relu_3[0][0]                     \n",
      "==================================================================================================\n",
      "Total params: 2,755\n",
      "Trainable params: 2,563\n",
      "Non-trainable params: 192\n",
      "__________________________________________________________________________________________________\n"
     ]
    }
   ],
   "source": [
    "model = load_model(model_name)\n",
    "model.summary()"
   ]
  },
  {
   "cell_type": "code",
   "execution_count": null,
   "metadata": {},
   "outputs": [],
   "source": [
    "# Adding layers to create inference model - if model has 1 output\n",
    "lays = model.layers\n",
    "\n",
    "n_input_features = lays[0].input_shape[1]\n",
    "inputs = Input(shape=(1,1,n_input_features,))\n",
    "hidden_layers = Reshape((n_input_features,))(inputs)\n",
    "\n",
    "for l in lays[1:]:\n",
    "    hidden_layers = l(hidden_layers)\n",
    "\n",
    "inference_model = Model(inputs=inputs, outputs=hidden_layers)\n",
    "inference_model.summary()"
   ]
  },
  {
   "cell_type": "code",
   "execution_count": 7,
   "metadata": {},
   "outputs": [
    {
     "name": "stdout",
     "output_type": "stream",
     "text": [
      "Model: \"model_2\"\n",
      "_________________________________________________________________\n",
      "Layer (type)                 Output Shape              Param #   \n",
      "=================================================================\n",
      "input_2 (InputLayer)         (None, 1, 1, 4)           0         \n",
      "_________________________________________________________________\n",
      "reshape_2 (Reshape)          (None, 4)                 0         \n",
      "_________________________________________________________________\n",
      "dense_1 (Dense)              (None, 32)                160       \n",
      "_________________________________________________________________\n",
      "bn_1 (BatchNormalization)    (None, 32)                128       \n",
      "_________________________________________________________________\n",
      "relu_1 (Activation)          (None, 32)                0         \n",
      "_________________________________________________________________\n",
      "dense_2 (Dense)              (None, 32)                1056      \n",
      "_________________________________________________________________\n",
      "bn_2 (BatchNormalization)    (None, 32)                128       \n",
      "_________________________________________________________________\n",
      "relu_2 (Activation)          (None, 32)                0         \n",
      "_________________________________________________________________\n",
      "dense_3 (Dense)              (None, 32)                1056      \n",
      "_________________________________________________________________\n",
      "bn_3 (BatchNormalization)    (None, 32)                128       \n",
      "_________________________________________________________________\n",
      "relu_3 (Activation)          (None, 32)                0         \n",
      "_________________________________________________________________\n",
      "output3 (Dense)              (None, 3)                 99        \n",
      "=================================================================\n",
      "Total params: 2,755\n",
      "Trainable params: 2,563\n",
      "Non-trainable params: 192\n",
      "_________________________________________________________________\n"
     ]
    }
   ],
   "source": [
    "# Adding layers to create inference model - if model has 3 outputs\n",
    "lays = model.layers\n",
    "\n",
    "n_input_features = lays[0].input_shape[1]\n",
    "inputs = Input(shape=(1,1,n_input_features,))\n",
    "hidden_layers = Reshape((n_input_features,))(inputs)\n",
    "\n",
    "for l in lays[1:-3]:\n",
    "    hidden_layers = l(hidden_layers)\n",
    "\n",
    "phi_weights = lays[-3].get_weights()\n",
    "eta_weights = lays[-2].get_weights()\n",
    "pt_weights = lays[-1].get_weights()\n",
    "\n",
    "combined_W = np.concatenate((phi_weights[0], eta_weights[0], pt_weights[0]), -1)\n",
    "combined_b = np.concatenate((phi_weights[1], eta_weights[1], pt_weights[1]), -1)\n",
    "new_output_layer = Dense(3, activation='linear', weights=[combined_W, combined_b], name='output3')\n",
    "\n",
    "output = new_output_layer(hidden_layers)\n",
    "\n",
    "inference_model = Model(inputs=inputs, outputs=output)\n",
    "inference_model.summary()"
   ]
  },
  {
   "cell_type": "code",
   "execution_count": 8,
   "metadata": {},
   "outputs": [
    {
     "name": "stderr",
     "output_type": "stream",
     "text": [
      "The maximum opset needed by this model is only 9.\n"
     ]
    }
   ],
   "source": [
    "# Converting inference model to onnx\n",
    "onnx_model = onnxmltools.convert_keras(inference_model)\n",
    "onnx.save(onnx_model, model_name + '.onnx')"
   ]
  },
  {
   "cell_type": "code",
   "execution_count": null,
   "metadata": {},
   "outputs": [],
   "source": []
  }
 ],
 "metadata": {
  "kernelspec": {
   "display_name": "Python 3",
   "language": "python",
   "name": "python3"
  },
  "language_info": {
   "codemirror_mode": {
    "name": "ipython",
    "version": 3
   },
   "file_extension": ".py",
   "mimetype": "text/x-python",
   "name": "python",
   "nbconvert_exporter": "python",
   "pygments_lexer": "ipython3",
   "version": "3.7.6"
  }
 },
 "nbformat": 4,
 "nbformat_minor": 4
}
